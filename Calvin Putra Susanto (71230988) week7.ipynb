{
 "cells": [
  {
   "cell_type": "code",
   "execution_count": 1,
   "id": "9c0fd936",
   "metadata": {},
   "outputs": [
    {
     "name": "stdout",
     "output_type": "stream",
     "text": [
      "Masukkan sebuah kata: lama\n",
      "Masukkan sebuah anagram: alam\n",
      "anagram\n"
     ]
    }
   ],
   "source": [
    "kata = input(\"Masukkan sebuah kata: \")\n",
    "anagram = input(\"Masukkan sebuah anagram: \")\n",
    "anagram2 = anagram.lower().replace(\" \", \"\")\n",
    "kata2 = kata.lower().replace(\" \", \"\")\n",
    "anagram3 = sorted(anagram)\n",
    "kata3 = sorted(kata)  \n",
    "if anagram3 == kata3:\n",
    "    print(\"anagram\")\n",
    "else:\n",
    "    print(\"bukan anagram\")"
   ]
  },
  {
   "cell_type": "code",
   "execution_count": 2,
   "id": "a44597d3",
   "metadata": {},
   "outputs": [
    {
     "name": "stdout",
     "output_type": "stream",
     "text": [
      "Masukkan sebuah kalimat: saya suka makan, makan adalah kewajiban jika tidak makan perut jadi lapar\n",
      "Masukkan sebuah kata yang ingin dicari frekuensinya: makan\n",
      "makan ada 3 buah\n"
     ]
    }
   ],
   "source": [
    "kalimat = input(\"Masukkan sebuah kalimat: \")\n",
    "kata_dicari = input(\"Masukkan sebuah kata yang ingin dicari frekuensinya: \")\n",
    "kalimat_awal = kalimat.lower().split()\n",
    "kata_cari = kata_dicari.lower()\n",
    "frekuensi = kalimat.count(kata_cari)\n",
    "\n",
    "if frekuensi > 0:\n",
    "    print(f\"{kata_cari} ada {frekuensi} buah\")\n",
    "else:\n",
    "    print(\"Kata tidak ada\")"
   ]
  },
  {
   "cell_type": "code",
   "execution_count": 3,
   "id": "6d8ccf71",
   "metadata": {},
   "outputs": [
    {
     "name": "stdout",
     "output_type": "stream",
     "text": [
      "Masukkan sebuah kalimat: saya suka   makan        ayam\n",
      "saya suka makan ayam\n"
     ]
    }
   ],
   "source": [
    "kalimat = input(\"Masukkan sebuah kalimat: \")\n",
    "kalimat2 = kalimat.split()\n",
    "kalimat_baru = \" \".join(kalimat2)\n",
    "print(kalimat_baru)"
   ]
  },
  {
   "cell_type": "code",
   "execution_count": 4,
   "id": "df004091",
   "metadata": {},
   "outputs": [
    {
     "name": "stdout",
     "output_type": "stream",
     "text": [
      "Masukkan sebuah kalimat: saya adalah mahasiswa TI \n",
      "terpendek: TI, terpanjang: mahasiswa\n"
     ]
    }
   ],
   "source": [
    "kalimat = str(input(\"Masukkan sebuah kalimat: \"))\n",
    "kalimat1 = kalimat.split()\n",
    "\n",
    "pendek = \" \"\n",
    "panjang = \" \"\n",
    "\n",
    "pendek += kalimat1[0]\n",
    "panjang += kalimat1[0]\n",
    "for i in kalimat1:\n",
    "    if len(i) < len(pendek):\n",
    "        pendek = i\n",
    "    elif len (i) > len(panjang):\n",
    "        panjang = i \n",
    "\n",
    "print(f\"terpendek: {pendek}, terpanjang: {panjang}\")"
   ]
  },
  {
   "cell_type": "code",
   "execution_count": null,
   "id": "91f20c20",
   "metadata": {},
   "outputs": [],
   "source": []
  }
 ],
 "metadata": {
  "kernelspec": {
   "display_name": "Python 3 (ipykernel)",
   "language": "python",
   "name": "python3"
  },
  "language_info": {
   "codemirror_mode": {
    "name": "ipython",
    "version": 3
   },
   "file_extension": ".py",
   "mimetype": "text/x-python",
   "name": "python",
   "nbconvert_exporter": "python",
   "pygments_lexer": "ipython3",
   "version": "3.11.5"
  }
 },
 "nbformat": 4,
 "nbformat_minor": 5
}
